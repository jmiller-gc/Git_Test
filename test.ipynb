{
 "cells": [
  {
   "cell_type": "code",
   "execution_count": 51,
   "metadata": {},
   "outputs": [
    {
     "name": "stdout",
     "output_type": "stream",
     "text": [
      "This is a test\n"
     ]
    }
   ],
   "source": [
    "print(\"This is a test\")"
   ]
  },
  {
   "cell_type": "code",
   "execution_count": 52,
   "metadata": {},
   "outputs": [
    {
     "name": "stdout",
     "output_type": "stream",
     "text": [
      "Testing secrets\n",
      "Username: test.test\n",
      "Value: 12345\n"
     ]
    }
   ],
   "source": [
    "from datetime import datetime\n",
    "from hogwarts.auth.vault.vault_client import VaultClient\n",
    "\n",
    "import requests\n",
    "\n",
    "vault_client = VaultClient()\n",
    "vault_client.login()\n",
    "\n",
    "test = vault_client.get_personal_secret(\"Test-Secret\")\n",
    "\n",
    "testUser = test[\"test_username\"]\n",
    "testValue = test[\"test_value\"]\n",
    "\n",
    "print(\"Testing secrets\")\n",
    "print(\"Username: \" + testUser)\n",
    "print(\"Value: \" + testValue)\n",
    "\n",
    "#print(\"g_sqlDatabase: \" + g_sqlDatabase)\n"
   ]
  },
  {
   "cell_type": "code",
   "execution_count": 53,
   "metadata": {},
   "outputs": [
    {
     "name": "stdout",
     "output_type": "stream",
     "text": [
      "Last commit processed: 2022-03-03 15:36:59\n",
      "Most recent update available: 2022-03-03 15:36:59\n",
      "No update required\n"
     ]
    }
   ],
   "source": [
    "trackerSecret = vault_client.get_personal_secret(\"Tracker\")\n",
    "\n",
    "commitLocation = \"https://api.github.com/repos/jmiller-gc/Git_Test/commits?page=1&per_page=1\"\n",
    "\n",
    "lastCommit = trackerSecret[\"ORG_LAST_COMMIT_DATE\"]\n",
    "\n",
    "if (lastCommit == \"None\"):\n",
    "    lastCommitDate = datetime(1, 1, 1, 0, 0, 0)\n",
    "else:\n",
    "    lastCommitDate = datetime.strptime(lastCommit, \"%Y-%m-%d %H:%M:%S\")\n",
    "\n",
    "print(\"Last commit processed: \" + lastCommit)\n",
    "    \n",
    "# get datetime of most current commit\n",
    "with requests.get(commitLocation) as response:\n",
    "    response.raise_for_status()\n",
    "    currentCommit = datetime.strptime(response.json()[0]['commit']['committer']['date'], '%Y-%m-%dT%H:%M:%SZ')\n",
    "\n",
    "print(\"Most recent update available: \" + currentCommit.strftime(\"%Y-%m-%d %H:%M:%S\"))\n",
    "\n",
    "if (lastCommitDate < currentCommit):\n",
    "    vault_client.set_personal_secret(\"Tracker\", {\"ORG_LAST_COMMIT_DATE\" : currentCommit.strftime(\"%Y-%m-%d %H:%M:%S\")})\n",
    "    print(\"Update the table due to new commit\")\n",
    "else:\n",
    "    print(\"No update required\")\n"
   ]
  }
 ],
 "metadata": {
  "interpreter": {
   "hash": "d4d1e4263499bec80672ea0156c357c1ee493ec2b1c70f0acce89fc37c4a6abe"
  },
  "kernelspec": {
   "display_name": "Python 3.8.12 64-bit ('base': conda)",
   "language": "python",
   "name": "python3"
  },
  "language_info": {
   "codemirror_mode": {
    "name": "ipython",
    "version": 3
   },
   "file_extension": ".py",
   "mimetype": "text/x-python",
   "name": "python",
   "nbconvert_exporter": "python",
   "pygments_lexer": "ipython3",
   "version": "3.8.12"
  },
  "orig_nbformat": 4
 },
 "nbformat": 4,
 "nbformat_minor": 2
}
