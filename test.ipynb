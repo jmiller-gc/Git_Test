{
 "cells": [
  {
   "cell_type": "code",
   "execution_count": null,
   "metadata": {},
   "outputs": [],
   "source": [
    "print(\"This is a test\")"
   ]
  },
  {
   "cell_type": "code",
   "execution_count": null,
   "metadata": {},
   "outputs": [],
   "source": [
    "from datetime import datetime\n",
    "from hogwarts.auth.vault.vault_client import VaultClient\n",
    "\n",
    "import requests\n",
    "\n",
    "vault_client = VaultClient()\n",
    "vault_client.login()\n",
    "\n",
    "test = vault_client.get_personal_secret(\"Test-Secret\")\n",
    "\n",
    "testUser = test[\"test_username\"]\n",
    "testValue = test[\"test_value\"]\n",
    "\n",
    "print(\"Testing secrets\")\n",
    "print(\"Username: \" + testUser)\n",
    "print(\"Value: \" + testValue)\n",
    "\n",
    "#print(\"g_sqlDatabase: \" + g_sqlDatabase)\n"
   ]
  },
  {
   "cell_type": "code",
   "execution_count": null,
   "metadata": {},
   "outputs": [],
   "source": [
    "commitLocation = \"https://api.github.com/repos/jmiller-gc/Git_Test/commits?page=1&per_page=1\"\n",
    "\n",
    "trackerSecret = vault_client.get_personal_secret(\"Tracker\")\n",
    "\n",
    "lastCommit = trackerSecret[\"DOMAIN_LIST_LAST_COMMIT_DATE\"]\n",
    "forceUpdate = trackerSecret[\"FORCE_UPDATE_DOMAIN_LIST\"]\n",
    "\n",
    "# Get last commit date from secrets and convert it to datetime.\n",
    "if (lastCommit == \"None\"):\n",
    "    lastCommitDate = datetime(1, 1, 1, 0, 0, 0)\n",
    "else:\n",
    "    lastCommitDate = datetime.strptime(lastCommit, \"%Y-%m-%d %H:%M:%S\")\n",
    "\n",
    "# Get datetime of most current commit\n",
    "with requests.get(commitLocation) as response:\n",
    "    response.raise_for_status()\n",
    "    currentCommit = datetime.strptime(response.json()[0]['commit']['committer']['date'], '%Y-%m-%dT%H:%M:%SZ')\n",
    "\n",
    "print(\"Last commit processed: \" + lastCommit)\n",
    "print(\"Most recent update available: \" + currentCommit.strftime(\"%Y-%m-%d %H:%M:%S\"))\n",
    "\n",
    "if ((forceUpdate) or (lastCommitDate < currentCommit)):\n",
    "    if (forceUpdate):\n",
    "        print(\"Domain list updated due to override\")\n",
    "    else:\n",
    "        print(\"Domain list updated due to new commit\")\n",
    "\n",
    "    vault_client.set_personal_secret(\"Tracker\", {\"USERNAME\" : trackerSecret[\"USERNAME\"],\n",
    "                                                 \"PASSWORD\" : trackerSecret[\"PASSWORD\"],\n",
    "                                                 \"DOMAIN_LIST_LAST_COMMIT_DATE\" : currentCommit.strftime(\"%Y-%m-%d %H:%M:%S\"),\n",
    "                                                 \"FORCE_UPDATE_DOMAIN_LIST\" : 0})"
   ]
  }
 ],
 "metadata": {
  "interpreter": {
   "hash": "d4d1e4263499bec80672ea0156c357c1ee493ec2b1c70f0acce89fc37c4a6abe"
  },
  "kernelspec": {
   "display_name": "Python 3.8.12 64-bit ('base': conda)",
   "language": "python",
   "name": "python3"
  },
  "language_info": {
   "codemirror_mode": {
    "name": "ipython",
    "version": 3
   },
   "file_extension": ".py",
   "mimetype": "text/x-python",
   "name": "python",
   "nbconvert_exporter": "python",
   "pygments_lexer": "ipython3",
   "version": "3.8.12"
  },
  "orig_nbformat": 4
 },
 "nbformat": 4,
 "nbformat_minor": 2
}
