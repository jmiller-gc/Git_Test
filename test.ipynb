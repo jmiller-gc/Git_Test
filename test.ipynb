{
 "cells": [
  {
   "cell_type": "code",
   "execution_count": 1,
   "metadata": {},
   "outputs": [
    {
     "name": "stdout",
     "output_type": "stream",
     "text": [
      "This is a test\n"
     ]
    }
   ],
   "source": [
    "print(\"This is a test\")"
   ]
  },
  {
   "cell_type": "code",
   "execution_count": 2,
   "metadata": {},
   "outputs": [
    {
     "name": "stdout",
     "output_type": "stream",
     "text": [
      "Testing secrets\n",
      "Username: test.test\n",
      "Value: 12345\n"
     ]
    }
   ],
   "source": [
    "from hogwarts.auth.vault.vault_client import VaultClient\n",
    "\n",
    "vault_client = VaultClient()\n",
    "vault_client.login()\n",
    "\n",
    "test = vault_client.get_personal_secret(\"Test-Secret\")\n",
    "\n",
    "testUser = test[\"test_username\"]\n",
    "testValue = test[\"test_value\"]\n",
    "\n",
    "print(\"Testing secrets\")\n",
    "print(\"Username: \" + testUser)\n",
    "print(\"Value: \" + testValue)\n",
    "\n",
    "print(\"g_sqlDatabase: \" + g_sqlDatabase)\n"
   ]
  }
 ],
 "metadata": {
  "interpreter": {
   "hash": "d4d1e4263499bec80672ea0156c357c1ee493ec2b1c70f0acce89fc37c4a6abe"
  },
  "kernelspec": {
   "display_name": "Python 3.8.12 64-bit ('base': conda)",
   "language": "python",
   "name": "python3"
  },
  "language_info": {
   "codemirror_mode": {
    "name": "ipython",
    "version": 3
   },
   "file_extension": ".py",
   "mimetype": "text/x-python",
   "name": "python",
   "nbconvert_exporter": "python",
   "pygments_lexer": "ipython3",
   "version": "3.8.12"
  },
  "orig_nbformat": 4
 },
 "nbformat": 4,
 "nbformat_minor": 2
}
